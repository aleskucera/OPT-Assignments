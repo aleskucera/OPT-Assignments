{
 "cells": [
  {
   "cell_type": "markdown",
   "metadata": {},
   "source": [
    "10.9 \n",
    "\n",
    "Máme soustavu rovnic\n",
    "\n",
    "$x+y-2xy=1$\n",
    "\n",
    "$-x+y+xy=-3$\n",
    "\n",
    "$x-y+xy=1$\n",
    "\n",
    "Je soustava lineární? Kolik má řešení a proč? Chceme soustavu řešit přibližně ve smyslu nejmenších čtverců, rj. minimalizovat funkci $f(x,y)$. Napište iteraci (a) gradientní, (b) Newtonovy, (c) Gauss-Newtonovy, (d) Levenberg-Marquardtovy metody."
   ]
  },
  {
   "cell_type": "code",
   "execution_count": 1,
   "metadata": {},
   "outputs": [],
   "source": [
    "# imports\n",
    "import sympy\n",
    "import numpy as np"
   ]
  },
  {
   "cell_type": "code",
   "execution_count": 2,
   "metadata": {},
   "outputs": [
    {
     "name": "stdout",
     "output_type": "stream",
     "text": [
      "Matrix([[-2*x*y + x + y - 1], [x*y - x + y + 3], [x*y + x - y - 1]])\n",
      "Matrix([[1 - 2*y, 1 - 2*x], [y - 1, x + 1], [y + 1, x - 1]])\n"
     ]
    }
   ],
   "source": [
    "# declarations\n",
    "x,y = sympy.symbols(\"x,y\")\n",
    "\n",
    "g = sympy.Matrix([[x+y-2*x*y-1],[-x+y+x*y+3],[x-y+x*y-1]])\n",
    "dg = sympy.Matrix([[g.diff(x),g.diff(y)]])\n",
    "print(g)\n",
    "print(dg)\n",
    "\n",
    "f = g.T*g\n",
    "df = sympy.Matrix([[f.diff(x), f.diff(y)]])\n",
    "ddf = sympy.Matrix([[df.diff(x), df.diff(y)]])"
   ]
  },
  {
   "cell_type": "code",
   "execution_count": 4,
   "metadata": {},
   "outputs": [
    {
     "name": "stdout",
     "output_type": "stream",
     "text": [
      "(1, 2)\n",
      "(1, 2)\n",
      "(1, 2)\n",
      "(1, 2)\n",
      "(1, 2)\n",
      "(1, 2)\n",
      "(1, 2)\n",
      "(1, 2)\n",
      "(1, 2)\n",
      "(1, 2)\n",
      "(1, 2)\n",
      "(1, 2)\n",
      "(1, 2)\n",
      "(1, 2)\n",
      "(1, 2)\n",
      "(1, 2)\n",
      "(1, 2)\n",
      "(1, 2)\n",
      "(1, 2)\n",
      "(1, 2)\n",
      "(1, 2)\n",
      "(1, 2)\n",
      "(1, 2)\n",
      "(1, 2)\n",
      "(1, 2)\n",
      "(1, 2)\n",
      "(1, 2)\n",
      "(1, 2)\n",
      "(1, 2)\n",
      "(1, 2)\n",
      "(1, 2)\n",
      "(1, 2)\n",
      "(1, 2)\n",
      "(1, 2)\n",
      "(1, 2)\n",
      "(1, 2)\n",
      "(1, 2)\n",
      "(1, 2)\n",
      "(1, 2)\n",
      "(1, 2)\n",
      "(1, 2)\n",
      "(1, 2)\n",
      "(1, 2)\n",
      "(1, 2)\n",
      "(1, 2)\n",
      "(1, 2)\n",
      "(1, 2)\n",
      "(1, 2)\n",
      "(1, 2)\n",
      "(1, 2)\n",
      "(1, 2)\n",
      "(1, 2)\n",
      "(1, 2)\n",
      "(1, 2)\n",
      "(1, 2)\n",
      "(1, 2)\n",
      "(1, 2)\n",
      "(1, 2)\n",
      "(1, 2)\n",
      "(1, 2)\n",
      "(1, 2)\n",
      "(1, 2)\n",
      "(1, 2)\n",
      "(1, 2)\n",
      "(1, 2)\n",
      "(1, 2)\n",
      "(1, 2)\n",
      "(1, 2)\n",
      "(1, 2)\n",
      "(1, 2)\n",
      "(1, 2)\n",
      "(1, 2)\n",
      "(1, 2)\n",
      "(1, 2)\n",
      "(1, 2)\n",
      "(1, 2)\n",
      "(1, 2)\n",
      "(1, 2)\n",
      "(1, 2)\n",
      "(1, 2)\n",
      "(1, 2)\n",
      "(1, 2)\n",
      "(1, 2)\n",
      "(1, 2)\n",
      "(1, 2)\n",
      "(1, 2)\n",
      "(1, 2)\n",
      "(1, 2)\n",
      "(1, 2)\n",
      "(1, 2)\n",
      "(1, 2)\n",
      "(1, 2)\n",
      "(1, 2)\n",
      "(1, 2)\n",
      "(1, 2)\n",
      "(1, 2)\n",
      "(1, 2)\n",
      "(1, 2)\n",
      "(1, 2)\n",
      "[ 0.64048876 -1.41645026]\n"
     ]
    }
   ],
   "source": [
    "# 10.9 (a) -> Gradient method\n",
    "x0 = np.array([0.5, -1.5])\n",
    "n = 100\n",
    "X = np.zeros((2, n))\n",
    "X[:, 0] = x0\n",
    "alpha = 0.01\n",
    "\n",
    "for i in range(n-1):\n",
    "    df_k = df.subs([(x, X[0, i]), (y, X[1, i])])\n",
    "    print(df_k.shape)\n",
    "\n",
    "    X[:, i+1] = X[:, i] - alpha*np.array(df_k).astype(np.float64)\n",
    "\n",
    "print(X[:, -1])"
   ]
  },
  {
   "cell_type": "code",
   "execution_count": 4,
   "metadata": {},
   "outputs": [
    {
     "name": "stdout",
     "output_type": "stream",
     "text": [
      "[ 0.64135819 -1.41300246]\n"
     ]
    }
   ],
   "source": [
    "# 10.9 (b) -> Newton method\n",
    "x0 = np.array([0.5, -1.5])\n",
    "n = 100\n",
    "X = np.zeros((2, n))\n",
    "X[:, 0] = x0\n",
    "\n",
    "for i in range(n-1):\n",
    "    df_k = df.subs([(x, X[0, i]), (y, X[1, i])])\n",
    "    df_k = np.array(df_k).astype(np.float64).squeeze().T\n",
    "    ddf_k = ddf.subs([(x, X[0, i]), (y, X[1, i])])\n",
    "    ddf_k = np.linalg.inv(np.array(ddf_k).astype(np.float64).reshape((2,2)))\n",
    "\n",
    "    X[:, i+1] = X[:, i] - ddf_k@df_k\n",
    "\n",
    "print(X[:, -1])"
   ]
  },
  {
   "cell_type": "code",
   "execution_count": 5,
   "metadata": {},
   "outputs": [
    {
     "name": "stdout",
     "output_type": "stream",
     "text": [
      "[ 0.64135819 -1.41300246]\n"
     ]
    }
   ],
   "source": [
    "# 10.9 (c) -> Gauss-Newton method\n",
    "x0 = np.array([0.5, -1.5])\n",
    "n = 100\n",
    "X = np.zeros((2, n))\n",
    "X[:, 0] = x0\n",
    "\n",
    "for i in range(n-1):\n",
    "    g_k = g.subs([(x, X[0, i]), (y, X[1, i])])\n",
    "    dg_k = dg.subs([(x, X[0, i]), (y, X[1, i])])\n",
    "\n",
    "    inv_mat = np.linalg.inv(np.array(dg_k).astype(np.float64).squeeze().T@np.array(dg_k).astype(np.float64).squeeze())\n",
    "    mat = np.array(dg_k).astype(np.float64).squeeze().T@np.array(g_k).astype(np.float64).squeeze()\n",
    "\n",
    "    X[:, i+1] = X[:, i] - inv_mat@mat\n",
    "\n",
    "print(X[:, -1])"
   ]
  },
  {
   "cell_type": "code",
   "execution_count": 28,
   "metadata": {},
   "outputs": [
    {
     "name": "stdout",
     "output_type": "stream",
     "text": [
      "[ 1.5 -0.5]\n"
     ]
    }
   ],
   "source": [
    "# 10.9 (d) -> Levenberg-Marquardt\n",
    "x0 = np.array([0.5, -1.5])\n",
    "n = 150\n",
    "X = np.zeros((2, n))\n",
    "X[:, 0] = x0\n",
    "mu = 10\n",
    "prev = np.array([float(\"inf\"),float(\"inf\")])\n",
    "\n",
    "for i in range(n-1):\n",
    "    g_k = g.subs([(x, X[0, i]), (y, X[1, i])])\n",
    "    dg_k = dg.subs([(x, X[0, i]), (y, X[1, i])])\n",
    "\n",
    "    inv_mat = np.linalg.inv((np.array(dg_k).astype(np.float64).squeeze().T@np.array(dg_k).astype(np.float64).squeeze()).reshape((2,2))+np.diag([mu, mu]))\n",
    "    mat = np.array(dg_k).astype(np.float64).squeeze().T@np.array(g_k).astype(np.float64).squeeze()\n",
    "\n",
    "    mul = inv_mat@mat\n",
    "\n",
    "    if np.sum(prev > mul):\n",
    "        prev = mul\n",
    "        mu /= 2\n",
    "        X[:, i+1] = X[:, i] - mul\n",
    "        res = X[:, i+1]\n",
    "    else:\n",
    "        mu *= 2\n",
    "\n",
    "print(res)"
   ]
  }
 ],
 "metadata": {
  "kernelspec": {
   "display_name": "Python 3.8.10 64-bit",
   "language": "python",
   "name": "python3"
  },
  "language_info": {
   "codemirror_mode": {
    "name": "ipython",
    "version": 3
   },
   "file_extension": ".py",
   "mimetype": "text/x-python",
   "name": "python",
   "nbconvert_exporter": "python",
   "pygments_lexer": "ipython3",
   "version": "3.8.10"
  },
  "orig_nbformat": 4,
  "vscode": {
   "interpreter": {
    "hash": "916dbcbb3f70747c44a77c7bcd40155683ae19c65e1c03b4aa3499c5328201f1"
   }
  }
 },
 "nbformat": 4,
 "nbformat_minor": 2
}
