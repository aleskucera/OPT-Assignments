{
 "cells": [
  {
   "cell_type": "code",
   "execution_count": 13,
   "metadata": {
    "collapsed": true
   },
   "outputs": [],
   "source": [
    "# imports\n",
    "import sympy\n",
    "import numpy as np\n",
    "import scipy.io as sio\n",
    "from sympy.interactive.printing import init_printing"
   ]
  },
  {
   "cell_type": "code",
   "execution_count": 22,
   "outputs": [
    {
     "name": "stdout",
     "output_type": "stream",
     "text": [
      "(511, 1)\n",
      "(511, 3)\n",
      "(1, 3)\n",
      "(1, 9)\n"
     ]
    }
   ],
   "source": [
    "\n",
    "X = sio.loadmat('data.mat')['X']\n",
    "# declarations\n",
    "n = X.shape[0]\n",
    "xi,yi,x,y,r = sympy.symbols(\"xi,yi,x,y,r\")\n",
    "matrix = []\n",
    "for i in range(n):\n",
    "    matrix.append(sympy.sqrt((x - X[i,0])**2 + (y - X[i,1])**2) - r)\n",
    "g = sympy.Matrix(matrix)\n",
    "dg = sympy.Matrix([[g.diff(x),g.diff(y), g.diff(r)]])\n",
    "print(g.shape)\n",
    "print(dg.shape)\n",
    "\n",
    "f = g.T*g\n",
    "df = sympy.Matrix([[f.diff(x), f.diff(y), f.diff(r)]])\n",
    "ddf = sympy.Matrix([[df.diff(x), df.diff(y), df.diff(r)]])\n",
    "print(df.shape)\n",
    "print(ddf.shape)"
   ],
   "metadata": {
    "collapsed": false
   }
  },
  {
   "cell_type": "code",
   "execution_count": null,
   "outputs": [],
   "source": [],
   "metadata": {
    "collapsed": false
   }
  }
 ],
 "metadata": {
  "kernelspec": {
   "display_name": "Python 3",
   "language": "python",
   "name": "python3"
  },
  "language_info": {
   "codemirror_mode": {
    "name": "ipython",
    "version": 2
   },
   "file_extension": ".py",
   "mimetype": "text/x-python",
   "name": "python",
   "nbconvert_exporter": "python",
   "pygments_lexer": "ipython2",
   "version": "2.7.6"
  }
 },
 "nbformat": 4,
 "nbformat_minor": 0
}
