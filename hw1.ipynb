{
 "cells": [
  {
   "cell_type": "markdown",
   "source": [
    "# Homework 1\n",
    "We consider a linear dynamical system with state $x(t) \\in \\mathbb{R}^n$, $t = 0, . . . , N$, and actuator or input signal $u(t) \\in \\mathbb{R}$, for $t = 0, \\cdots , N − 1$. The dynamics of the system is given by the linear recurrence\n",
    "$$\n",
    "x(t + 1) = Ax(t) + bu(t), t = 0, . . . , N − 1,\n",
    "$$\n",
    "where $A \\in \\mathbb{R}^{n \\times n}$ and $b ∈ \\mathbb{R}^n$ are given. We assume that the initial state is zero, i.e., $x(0) = 0$. The minimum fuel optimal control problem is to choose the inputs $u(0), . . . , u(N − 1)$ so as to minimize the total fuel consumed, which is given by\n",
    "$$\n",
    "F = \\sum_{t=0}^{N-1}f(u(t)),\n",
    "$$\n",
    "subject to the constraint that $x(N) = x_{des}$, where $N$ is the (given) time horizon, and $x_{des} \\in \\mathbb{R}^n$ is the (given) final or target state. The function $f : \\mathbb{R} \\rightarrow \\mathbb{R}$ is the fuel use map for the actuator, which gives the amount of fuel used as a function of the actuator signal amplitude. In this problem we use\n",
    "$$\n",
    "f(a) =\n",
    "\\left\\{\n",
    "\t\\begin{array}{ll}\n",
    "\t\t|a|  & \\mbox{if } |a| \\leq 1 \\\\\n",
    "\t\t2|a| - 1 & \\mbox{if } |a| > 1\n",
    "\t\\end{array}\n",
    "\\right.\n",
    "$$\n",
    "This means that fuel use is proportional to the absolute value of the actuator signal, for actuator signals between −1 and 1; for larger actuator signals the marginal fuel efficiency is half.\n",
    "\n",
    "### Assignments\n",
    "1. *Formulate the minimum fuel optimal control problem as an LP.*"
   ],
   "metadata": {
    "collapsed": false,
    "pycharm": {
     "name": "#%% md\n"
    }
   }
  },
  {
   "cell_type": "markdown",
   "source": [
    "Pro $N = 2$ si úlohu rozepíšeme na\n",
    "$$\n",
    "x(0) = (0, 0), \\\\\n",
    "x(1) = A\\,0 + b\\,u(1)\n",
    "$$"
   ],
   "metadata": {
    "collapsed": false,
    "pycharm": {
     "name": "#%% md\n"
    }
   }
  },
  {
   "cell_type": "markdown",
   "metadata": {
    "pycharm": {
     "name": "#%% md\n"
    }
   },
   "source": [
    "2. $\\textit{Solve the following instance of the problem:}$\n",
    "\n",
    "$$\n",
    "A = \\begin{bmatrix} 1 & 1 \\\\ 0 & 0.95 \\end{bmatrix}, \\quad\n",
    "b = \\begin{bmatrix} 0 \\\\ 0.1 \\end{bmatrix}, \\\\\n",
    "x(0) = (0, 0), \\quad\n",
    "x_{des} = (10, 0), \\quad\n",
    "N = 20\n",
    "$$\n",
    "\n",
    "We can interpret the system as a simple model of a vehicle moving in one dimension. The state dimension is $n = 2$, with $x_1(t)$ denoting the position of the vehicle at time $t$ and $x_2(t)$ giving its velocity. The initial state is (0, 0), which corresponds to the vehicle at rest at position 0; the final state is $x_{des} = (10, 0)$, which corresponds to the vehicle being at rest at position 10. Roughly speaking, this means that the actuator input affects the velocity, which in turn affects the position. The coefficient $A_{22} = 0.95$ means that velocity decays by 5% in one sample period, if no actuator signal is applied. Plot the input signal $u(t)$ for $t = 0, . . . , 19$, and the position and velocity (i.e., $x_1(t)$ and $x_2(t)$) for $t = 0, . . . , 20$."
   ]
  },
  {
   "cell_type": "code",
   "execution_count": 1,
   "outputs": [],
   "source": [
    "import numpy\n",
    "from scipy.optimize import linprog"
   ],
   "metadata": {
    "collapsed": false,
    "pycharm": {
     "name": "#%%\n"
    }
   }
  },
  {
   "cell_type": "code",
   "execution_count": null,
   "outputs": [],
   "source": [],
   "metadata": {
    "collapsed": false,
    "pycharm": {
     "name": "#%%\n"
    }
   }
  }
 ],
 "metadata": {
  "kernelspec": {
   "display_name": "Python 3 (ipykernel)",
   "language": "python",
   "name": "python3"
  },
  "language_info": {
   "codemirror_mode": {
    "name": "ipython",
    "version": 3
   },
   "file_extension": ".py",
   "mimetype": "text/x-python",
   "name": "python",
   "nbconvert_exporter": "python",
   "pygments_lexer": "ipython3",
   "version": "3.10.4"
  }
 },
 "nbformat": 4,
 "nbformat_minor": 1
}