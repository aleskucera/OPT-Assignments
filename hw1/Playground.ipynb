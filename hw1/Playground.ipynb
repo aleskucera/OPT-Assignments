{
 "cells": [
  {
   "cell_type": "code",
   "execution_count": 8,
   "id": "3329c7a6",
   "metadata": {},
   "outputs": [
    {
     "name": "stdout",
     "output_type": "stream",
     "text": [
      "     con: array([9.79743930e-09, 1.04769242e-08])\n",
      "     fun: -505.97435889005345\n",
      " message: 'Optimization terminated successfully.'\n",
      "     nit: 4\n",
      "   slack: array([ 6.53052723e-10, -2.26972219e-09])\n",
      "  status: 0\n",
      " success: True\n",
      "       x: array([ 9.41025641,  5.17948718, -0.25641026,  1.64102564])\n"
     ]
    }
   ],
   "source": [
    "import numpy as np\n",
    "from scipy.optimize import linprog\n",
    "\n",
    "c = np.array([-29, -45, 0, 0])\n",
    "A_ub = np.array([[1, -1, -3, 0], [-2, 3, 7, -3]])\n",
    "b_ub = np.array([5, -10])\n",
    "A_eq = np.array([[2, 8, 1, 0], [4, 4, 0, 1]])\n",
    "b_eq = np.array([60, 60])\n",
    "x0_bounds = (0, None)\n",
    "x1_bounds = (0, 6)\n",
    "x2_bounds = (-np.inf, 0.5)\n",
    "x3_bounds = (-3, None)\n",
    "\n",
    "bounds = [x0_bounds, x1_bounds, x2_bounds, x3_bounds]\n",
    "result = linprog(c, A_ub=A_ub, b_ub=b_ub, A_eq=A_eq, b_eq=b_eq, bounds=bounds)\n",
    "print(result)"
   ]
  },
  {
   "cell_type": "code",
   "execution_count": 10,
   "id": "fa7bec6c",
   "metadata": {},
   "outputs": [
    {
     "name": "stdout",
     "output_type": "stream",
     "text": [
      "-505.97435889005345\n"
     ]
    }
   ],
   "source": [
    "x = np.array(result.x)\n",
    "print(c @ x)"
   ]
  },
  {
   "cell_type": "code",
   "execution_count": null,
   "id": "11d585cd",
   "metadata": {},
   "outputs": [],
   "source": []
  }
 ],
 "metadata": {
  "kernelspec": {
   "display_name": "Python 3 (ipykernel)",
   "language": "python",
   "name": "python3"
  },
  "language_info": {
   "codemirror_mode": {
    "name": "ipython",
    "version": 3
   },
   "file_extension": ".py",
   "mimetype": "text/x-python",
   "name": "python",
   "nbconvert_exporter": "python",
   "pygments_lexer": "ipython3",
   "version": "3.10.4"
  }
 },
 "nbformat": 4,
 "nbformat_minor": 5
}
