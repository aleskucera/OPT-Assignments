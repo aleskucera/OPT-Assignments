{
 "cells": [
  {
   "cell_type": "markdown",
   "source": [],
   "metadata": {
    "collapsed": false,
    "pycharm": {
     "name": "#%% md\n"
    }
   }
  },
  {
   "cell_type": "markdown",
   "source": [
    "Pro $N = 2$ si úlohu rozepíšeme na\n",
    "$$\n",
    "x(0) = (0, 0), \\\\\n",
    "x(1) = A\\,0 + b\\,u(1)\n",
    "F =\n",
    "$$"
   ],
   "metadata": {
    "collapsed": false,
    "pycharm": {
     "name": "#%% md\n"
    }
   }
  },
  {
   "cell_type": "markdown",
   "metadata": {
    "pycharm": {
     "name": "#%% md\n"
    }
   },
   "source": [
    "2. $\\textit{Solve the following instance of the problem:}$\n",
    "\n",
    "$$\n",
    "A = \\begin{bmatrix} 1 & 1 \\\\ 0 & 0.95 \\end{bmatrix}, \\quad\n",
    "b = \\begin{bmatrix} 0 \\\\ 0.1 \\end{bmatrix}, \\\\\n",
    "x(0) = (0, 0), \\quad\n",
    "x_{des} = (10, 0), \\quad\n",
    "N = 20\n",
    "$$\n",
    "\n",
    "We can interpret the system as a simple model of a vehicle moving in one dimension. The state dimension is $n = 2$, with $x_1(t)$ denoting the position of the vehicle at time $t$ and $x_2(t)$ giving its velocity. The initial state is (0, 0), which corresponds to the vehicle at rest at position 0; the final state is $x_{des} = (10, 0)$, which corresponds to the vehicle being at rest at position 10. Roughly speaking, this means that the actuator input affects the velocity, which in turn affects the position. The coefficient $A_{22} = 0.95$ means that velocity decays by 5% in one sample period, if no actuator signal is applied. Plot the input signal $u(t)$ for $t = 0, . . . , 19$, and the position and velocity (i.e., $x_1(t)$ and $x_2(t)$) for $t = 0, . . . , 20$."
   ]
  },
  {
   "cell_type": "code",
   "execution_count": 3,
   "outputs": [
    {
     "name": "stdout",
     "output_type": "stream",
     "text": [
      "Some code\n"
     ]
    }
   ],
   "source": [
    "import numpy\n",
    "from scipy.optimize import linprog"
   ],
   "metadata": {
    "collapsed": false,
    "pycharm": {
     "name": "#%%\n"
    }
   }
  },
  {
   "cell_type": "code",
   "execution_count": null,
   "metadata": {
    "pycharm": {
     "name": "#%%\n"
    }
   },
   "outputs": [],
   "source": []
  }
 ],
 "metadata": {
  "kernelspec": {
   "display_name": "Python 3 (ipykernel)",
   "language": "python",
   "name": "python3"
  },
  "language_info": {
   "codemirror_mode": {
    "name": "ipython",
    "version": 3
   },
   "file_extension": ".py",
   "mimetype": "text/x-python",
   "name": "python",
   "nbconvert_exporter": "python",
   "pygments_lexer": "ipython3",
   "version": "3.10.4"
  }
 },
 "nbformat": 4,
 "nbformat_minor": 1
}