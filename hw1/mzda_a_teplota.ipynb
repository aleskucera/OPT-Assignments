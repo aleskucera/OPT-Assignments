{
 "cells": [
  {
   "cell_type": "code",
   "execution_count": null,
   "metadata": {
    "collapsed": true,
    "pycharm": {
     "name": "#%%\n"
    }
   },
   "outputs": [],
   "source": [
    "from pdf2image import convert_from_path\n",
    "from IPython.display import display, Image\n",
    "\n",
    "images = convert_from_path(\"myfile.pdf\")\n",
    "for i, image in enumerate(images):\n",
    "    fname = \"image\" + str(i) + \".png\"\n",
    "    image.save(fname, \"PNG\")\n",
    "Image(fname, width=600, height=300)"
   ]
  }
 ],
 "metadata": {
  "kernelspec": {
   "display_name": "Python 3",
   "language": "python",
   "name": "python3"
  },
  "language_info": {
   "codemirror_mode": {
    "name": "ipython",
    "version": 2
   },
   "file_extension": ".py",
   "mimetype": "text/x-python",
   "name": "python",
   "nbconvert_exporter": "python",
   "pygments_lexer": "ipython2",
   "version": "2.7.6"
  }
 },
 "nbformat": 4,
 "nbformat_minor": 0
}